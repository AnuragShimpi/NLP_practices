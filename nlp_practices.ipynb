{
 "cells": [
  {
   "cell_type": "code",
   "execution_count": 2,
   "metadata": {},
   "outputs": [
    {
     "name": "stdout",
     "output_type": "stream",
     "text": [
      "Requirement already satisfied: nltk in c:\\users\\dell\\appdata\\local\\packages\\pythonsoftwarefoundation.python.3.10_qbz5n2kfra8p0\\localcache\\local-packages\\python310\\site-packages (3.8.1)\n",
      "Requirement already satisfied: click in c:\\users\\dell\\appdata\\local\\packages\\pythonsoftwarefoundation.python.3.10_qbz5n2kfra8p0\\localcache\\local-packages\\python310\\site-packages (from nltk) (8.1.7)\n",
      "Requirement already satisfied: joblib in c:\\users\\dell\\appdata\\local\\packages\\pythonsoftwarefoundation.python.3.10_qbz5n2kfra8p0\\localcache\\local-packages\\python310\\site-packages (from nltk) (1.3.2)\n",
      "Requirement already satisfied: regex>=2021.8.3 in c:\\users\\dell\\appdata\\local\\packages\\pythonsoftwarefoundation.python.3.10_qbz5n2kfra8p0\\localcache\\local-packages\\python310\\site-packages (from nltk) (2023.8.8)\n",
      "Requirement already satisfied: tqdm in c:\\users\\dell\\appdata\\local\\packages\\pythonsoftwarefoundation.python.3.10_qbz5n2kfra8p0\\localcache\\local-packages\\python310\\site-packages (from nltk) (4.66.1)\n",
      "Requirement already satisfied: colorama in c:\\users\\dell\\appdata\\local\\packages\\pythonsoftwarefoundation.python.3.10_qbz5n2kfra8p0\\localcache\\local-packages\\python310\\site-packages (from click->nltk) (0.4.5)\n",
      "Note: you may need to restart the kernel to use updated packages.\n"
     ]
    }
   ],
   "source": [
    "pip install nltk"
   ]
  },
  {
   "cell_type": "code",
   "execution_count": 3,
   "metadata": {},
   "outputs": [],
   "source": [
    "para = \"\"\"Virat Kohli (Hindi pronunciation: [ʋɪˈɾɑːʈ ˈkoːɦli] ⓘ; born 5 November 1988) is an Indian international cricketer and the former captain of the Indian national cricket team. He is a right-handed batsman and an occasional medium-fast bowler. He currently represents Royal Challengers Bengaluru in the IPL and Delhi in domestic cricket. Kohli is widely regarded as one of the greatest batsmen of all time.[4] He holds the record as the highest run-scorer in T20I and IPL, ranks third in ODI, and stands as the fourth-highest in international cricket.[5] He also holds the record for scoring the most centuries in ODI cricket and stands second in the list of most international centuries scored. Kohli was a key member of the Indian team that won the 2011 Cricket World Cup, 2013 ICC Champions Trophy, and captained India to win the ICC Test mace three consecutive times in 2017, 2018, and 2019.[6]\n",
    "\n",
    "In 2013, Kohli was ranked number one in the ICC rankings for ODI batsmen. In 2015, he achieved the summit of T20I rankings.[7] In 2018, he was ranked top Test batsman, making him the only Indian cricketer to hold the number one spot in all three formats of the game. He is the first player to score 20,000 runs in a decade. In 2020, the International Cricket Council named him the male cricketer of the decade.[8]\"\"\""
   ]
  },
  {
   "cell_type": "code",
   "execution_count": 4,
   "metadata": {},
   "outputs": [
    {
     "data": {
      "text/plain": [
       "'Virat Kohli (Hindi pronunciation: [ʋɪˈɾɑːʈ ˈkoːɦli] ⓘ; born 5 November 1988) is an Indian international cricketer and the former captain of the Indian national cricket team. He is a right-handed batsman and an occasional medium-fast bowler. He currently represents Royal Challengers Bengaluru in the IPL and Delhi in domestic cricket. Kohli is widely regarded as one of the greatest batsmen of all time.[4] He holds the record as the highest run-scorer in T20I and IPL, ranks third in ODI, and stands as the fourth-highest in international cricket.[5] He also holds the record for scoring the most centuries in ODI cricket and stands second in the list of most international centuries scored. Kohli was a key member of the Indian team that won the 2011 Cricket World Cup, 2013 ICC Champions Trophy, and captained India to win the ICC Test mace three consecutive times in 2017, 2018, and 2019.[6]\\n\\nIn 2013, Kohli was ranked number one in the ICC rankings for ODI batsmen. In 2015, he achieved the summit of T20I rankings.[7] In 2018, he was ranked top Test batsman, making him the only Indian cricketer to hold the number one spot in all three formats of the game. He is the first player to score 20,000 runs in a decade. In 2020, the International Cricket Council named him the male cricketer of the decade.[8]'"
      ]
     },
     "execution_count": 4,
     "metadata": {},
     "output_type": "execute_result"
    }
   ],
   "source": [
    "para"
   ]
  },
  {
   "cell_type": "code",
   "execution_count": 5,
   "metadata": {},
   "outputs": [],
   "source": [
    "#stemming:\n",
    "import nltk\n",
    "from nltk.stem import PorterStemmer #porterstemmer is used for stemming : finding root word\n",
    "from nltk.corpus import stopwords"
   ]
  },
  {
   "cell_type": "code",
   "execution_count": 6,
   "metadata": {},
   "outputs": [
    {
     "name": "stderr",
     "output_type": "stream",
     "text": [
      "[nltk_data] Downloading package punkt to\n",
      "[nltk_data]     C:\\Users\\dell\\AppData\\Roaming\\nltk_data...\n",
      "[nltk_data]   Package punkt is already up-to-date!\n"
     ]
    },
    {
     "data": {
      "text/plain": [
       "['Virat Kohli (Hindi pronunciation: [ʋɪˈɾɑːʈ ˈkoːɦli] ⓘ; born 5 November 1988) is an Indian international cricketer and the former captain of the Indian national cricket team.',\n",
       " 'He is a right-handed batsman and an occasional medium-fast bowler.',\n",
       " 'He currently represents Royal Challengers Bengaluru in the IPL and Delhi in domestic cricket.',\n",
       " 'Kohli is widely regarded as one of the greatest batsmen of all time.',\n",
       " '[4] He holds the record as the highest run-scorer in T20I and IPL, ranks third in ODI, and stands as the fourth-highest in international cricket.',\n",
       " '[5] He also holds the record for scoring the most centuries in ODI cricket and stands second in the list of most international centuries scored.',\n",
       " 'Kohli was a key member of the Indian team that won the 2011 Cricket World Cup, 2013 ICC Champions Trophy, and captained India to win the ICC Test mace three consecutive times in 2017, 2018, and 2019.',\n",
       " '[6]\\n\\nIn 2013, Kohli was ranked number one in the ICC rankings for ODI batsmen.',\n",
       " 'In 2015, he achieved the summit of T20I rankings.',\n",
       " '[7] In 2018, he was ranked top Test batsman, making him the only Indian cricketer to hold the number one spot in all three formats of the game.',\n",
       " 'He is the first player to score 20,000 runs in a decade.',\n",
       " 'In 2020, the International Cricket Council named him the male cricketer of the decade.',\n",
       " '[8]']"
      ]
     },
     "execution_count": 6,
     "metadata": {},
     "output_type": "execute_result"
    }
   ],
   "source": [
    "#tokenization: convert para into sentences and words\n",
    "nltk.download('punkt')\n",
    "sent = nltk.sent_tokenize(para)\n",
    "sent"
   ]
  },
  {
   "cell_type": "code",
   "execution_count": 7,
   "metadata": {},
   "outputs": [
    {
     "data": {
      "text/plain": [
       "'goe'"
      ]
     },
     "execution_count": 7,
     "metadata": {},
     "output_type": "execute_result"
    }
   ],
   "source": [
    "#stemming:\n",
    "stemmer = PorterStemmer()\n",
    "stemmer.stem(\"goes\")"
   ]
  },
  {
   "cell_type": "code",
   "execution_count": 8,
   "metadata": {},
   "outputs": [
    {
     "data": {
      "text/plain": [
       "'go'"
      ]
     },
     "execution_count": 8,
     "metadata": {},
     "output_type": "execute_result"
    }
   ],
   "source": [
    "#lemmatization:\n",
    "from nltk.stem import WordNetLemmatizer #for lemmatization purpose \n",
    "lemmatizer = WordNetLemmatizer()\n",
    "lemmatizer.lemmatize(\"goes\")"
   ]
  },
  {
   "cell_type": "code",
   "execution_count": 9,
   "metadata": {},
   "outputs": [
    {
     "data": {
      "text/plain": [
       "13"
      ]
     },
     "execution_count": 9,
     "metadata": {},
     "output_type": "execute_result"
    }
   ],
   "source": [
    "len(sent)"
   ]
  },
  {
   "cell_type": "code",
   "execution_count": 10,
   "metadata": {},
   "outputs": [],
   "source": [
    "import re"
   ]
  },
  {
   "cell_type": "code",
   "execution_count": 11,
   "metadata": {},
   "outputs": [],
   "source": [
    "corpus = []\n",
    "for i in range(len(sent)):\n",
    "    review = re.sub('[^a-zA-Z]',' ',sent[i])\n",
    "    review = review.lower()\n",
    "    corpus.append(review)"
   ]
  },
  {
   "cell_type": "code",
   "execution_count": 12,
   "metadata": {},
   "outputs": [
    {
     "data": {
      "text/plain": [
       "['virat kohli  hindi pronunciation            ko  li     born   november       is an indian international cricketer and the former captain of the indian national cricket team ',\n",
       " 'he is a right handed batsman and an occasional medium fast bowler ',\n",
       " 'he currently represents royal challengers bengaluru in the ipl and delhi in domestic cricket ',\n",
       " 'kohli is widely regarded as one of the greatest batsmen of all time ',\n",
       " '    he holds the record as the highest run scorer in t  i and ipl  ranks third in odi  and stands as the fourth highest in international cricket ',\n",
       " '    he also holds the record for scoring the most centuries in odi cricket and stands second in the list of most international centuries scored ',\n",
       " 'kohli was a key member of the indian team that won the      cricket world cup       icc champions trophy  and captained india to win the icc test mace three consecutive times in             and      ',\n",
       " '     in       kohli was ranked number one in the icc rankings for odi batsmen ',\n",
       " 'in       he achieved the summit of t  i rankings ',\n",
       " '    in       he was ranked top test batsman  making him the only indian cricketer to hold the number one spot in all three formats of the game ',\n",
       " 'he is the first player to score        runs in a decade ',\n",
       " 'in       the international cricket council named him the male cricketer of the decade ',\n",
       " '   ']"
      ]
     },
     "execution_count": 12,
     "metadata": {},
     "output_type": "execute_result"
    }
   ],
   "source": [
    "corpus"
   ]
  },
  {
   "cell_type": "code",
   "execution_count": 13,
   "metadata": {},
   "outputs": [
    {
     "name": "stderr",
     "output_type": "stream",
     "text": [
      "[nltk_data] Downloading package stopwords to\n",
      "[nltk_data]     C:\\Users\\dell\\AppData\\Roaming\\nltk_data...\n",
      "[nltk_data]   Package stopwords is already up-to-date!\n"
     ]
    },
    {
     "data": {
      "text/plain": [
       "True"
      ]
     },
     "execution_count": 13,
     "metadata": {},
     "output_type": "execute_result"
    }
   ],
   "source": [
    "import nltk\n",
    "nltk.download('stopwords')"
   ]
  },
  {
   "cell_type": "code",
   "execution_count": 14,
   "metadata": {},
   "outputs": [
    {
     "data": {
      "text/plain": [
       "['i',\n",
       " 'me',\n",
       " 'my',\n",
       " 'myself',\n",
       " 'we',\n",
       " 'our',\n",
       " 'ours',\n",
       " 'ourselves',\n",
       " 'you',\n",
       " \"you're\",\n",
       " \"you've\",\n",
       " \"you'll\",\n",
       " \"you'd\",\n",
       " 'your',\n",
       " 'yours',\n",
       " 'yourself',\n",
       " 'yourselves',\n",
       " 'he',\n",
       " 'him',\n",
       " 'his',\n",
       " 'himself',\n",
       " 'she',\n",
       " \"she's\",\n",
       " 'her',\n",
       " 'hers',\n",
       " 'herself',\n",
       " 'it',\n",
       " \"it's\",\n",
       " 'its',\n",
       " 'itself',\n",
       " 'they',\n",
       " 'them',\n",
       " 'their',\n",
       " 'theirs',\n",
       " 'themselves',\n",
       " 'what',\n",
       " 'which',\n",
       " 'who',\n",
       " 'whom',\n",
       " 'this',\n",
       " 'that',\n",
       " \"that'll\",\n",
       " 'these',\n",
       " 'those',\n",
       " 'am',\n",
       " 'is',\n",
       " 'are',\n",
       " 'was',\n",
       " 'were',\n",
       " 'be',\n",
       " 'been',\n",
       " 'being',\n",
       " 'have',\n",
       " 'has',\n",
       " 'had',\n",
       " 'having',\n",
       " 'do',\n",
       " 'does',\n",
       " 'did',\n",
       " 'doing',\n",
       " 'a',\n",
       " 'an',\n",
       " 'the',\n",
       " 'and',\n",
       " 'but',\n",
       " 'if',\n",
       " 'or',\n",
       " 'because',\n",
       " 'as',\n",
       " 'until',\n",
       " 'while',\n",
       " 'of',\n",
       " 'at',\n",
       " 'by',\n",
       " 'for',\n",
       " 'with',\n",
       " 'about',\n",
       " 'against',\n",
       " 'between',\n",
       " 'into',\n",
       " 'through',\n",
       " 'during',\n",
       " 'before',\n",
       " 'after',\n",
       " 'above',\n",
       " 'below',\n",
       " 'to',\n",
       " 'from',\n",
       " 'up',\n",
       " 'down',\n",
       " 'in',\n",
       " 'out',\n",
       " 'on',\n",
       " 'off',\n",
       " 'over',\n",
       " 'under',\n",
       " 'again',\n",
       " 'further',\n",
       " 'then',\n",
       " 'once',\n",
       " 'here',\n",
       " 'there',\n",
       " 'when',\n",
       " 'where',\n",
       " 'why',\n",
       " 'how',\n",
       " 'all',\n",
       " 'any',\n",
       " 'both',\n",
       " 'each',\n",
       " 'few',\n",
       " 'more',\n",
       " 'most',\n",
       " 'other',\n",
       " 'some',\n",
       " 'such',\n",
       " 'no',\n",
       " 'nor',\n",
       " 'not',\n",
       " 'only',\n",
       " 'own',\n",
       " 'same',\n",
       " 'so',\n",
       " 'than',\n",
       " 'too',\n",
       " 'very',\n",
       " 's',\n",
       " 't',\n",
       " 'can',\n",
       " 'will',\n",
       " 'just',\n",
       " 'don',\n",
       " \"don't\",\n",
       " 'should',\n",
       " \"should've\",\n",
       " 'now',\n",
       " 'd',\n",
       " 'll',\n",
       " 'm',\n",
       " 'o',\n",
       " 're',\n",
       " 've',\n",
       " 'y',\n",
       " 'ain',\n",
       " 'aren',\n",
       " \"aren't\",\n",
       " 'couldn',\n",
       " \"couldn't\",\n",
       " 'didn',\n",
       " \"didn't\",\n",
       " 'doesn',\n",
       " \"doesn't\",\n",
       " 'hadn',\n",
       " \"hadn't\",\n",
       " 'hasn',\n",
       " \"hasn't\",\n",
       " 'haven',\n",
       " \"haven't\",\n",
       " 'isn',\n",
       " \"isn't\",\n",
       " 'ma',\n",
       " 'mightn',\n",
       " \"mightn't\",\n",
       " 'mustn',\n",
       " \"mustn't\",\n",
       " 'needn',\n",
       " \"needn't\",\n",
       " 'shan',\n",
       " \"shan't\",\n",
       " 'shouldn',\n",
       " \"shouldn't\",\n",
       " 'wasn',\n",
       " \"wasn't\",\n",
       " 'weren',\n",
       " \"weren't\",\n",
       " 'won',\n",
       " \"won't\",\n",
       " 'wouldn',\n",
       " \"wouldn't\"]"
      ]
     },
     "execution_count": 14,
     "metadata": {},
     "output_type": "execute_result"
    }
   ],
   "source": [
    "stopwords.words('english')"
   ]
  },
  {
   "cell_type": "code",
   "execution_count": 15,
   "metadata": {},
   "outputs": [
    {
     "name": "stdout",
     "output_type": "stream",
     "text": [
      "virat\n",
      "virat\n",
      "virat\n",
      "kohli\n",
      "kohli\n",
      "kohli\n",
      "hindi\n",
      "hindi\n",
      "hindi\n",
      "pronunciation\n",
      "pronunci\n",
      "pronunciation\n",
      "ko\n",
      "ko\n",
      "ko\n",
      "li\n",
      "li\n",
      "li\n",
      "born\n",
      "born\n",
      "born\n",
      "november\n",
      "novemb\n",
      "november\n",
      "indian\n",
      "indian\n",
      "indian\n",
      "international\n",
      "intern\n",
      "international\n",
      "cricketer\n",
      "cricket\n",
      "cricketer\n",
      "former\n",
      "former\n",
      "former\n",
      "captain\n",
      "captain\n",
      "captain\n",
      "indian\n",
      "indian\n",
      "indian\n",
      "national\n",
      "nation\n",
      "national\n",
      "cricket\n",
      "cricket\n",
      "cricket\n",
      "team\n",
      "team\n",
      "team\n",
      "right\n",
      "right\n",
      "right\n",
      "handed\n",
      "hand\n",
      "handed\n",
      "batsman\n",
      "batsman\n",
      "batsman\n",
      "occasional\n",
      "occasion\n",
      "occasional\n",
      "medium\n",
      "medium\n",
      "medium\n",
      "fast\n",
      "fast\n",
      "fast\n",
      "bowler\n",
      "bowler\n",
      "bowler\n",
      "currently\n",
      "current\n",
      "currently\n",
      "represents\n",
      "repres\n",
      "represents\n",
      "royal\n",
      "royal\n",
      "royal\n",
      "challengers\n",
      "challeng\n",
      "challenger\n",
      "bengaluru\n",
      "bengaluru\n",
      "bengaluru\n",
      "ipl\n",
      "ipl\n",
      "ipl\n",
      "delhi\n",
      "delhi\n",
      "delhi\n",
      "domestic\n",
      "domest\n",
      "domestic\n",
      "cricket\n",
      "cricket\n",
      "cricket\n",
      "kohli\n",
      "kohli\n",
      "kohli\n",
      "widely\n",
      "wide\n",
      "widely\n",
      "regarded\n",
      "regard\n",
      "regarded\n",
      "one\n",
      "one\n",
      "one\n",
      "greatest\n",
      "greatest\n",
      "greatest\n",
      "batsmen\n",
      "batsmen\n",
      "batsman\n",
      "time\n",
      "time\n",
      "time\n",
      "holds\n",
      "hold\n",
      "hold\n",
      "record\n",
      "record\n",
      "record\n",
      "highest\n",
      "highest\n",
      "highest\n",
      "run\n",
      "run\n",
      "run\n",
      "scorer\n",
      "scorer\n",
      "scorer\n",
      "ipl\n",
      "ipl\n",
      "ipl\n",
      "ranks\n",
      "rank\n",
      "rank\n",
      "third\n",
      "third\n",
      "third\n",
      "odi\n",
      "odi\n",
      "odi\n",
      "stands\n",
      "stand\n",
      "stand\n",
      "fourth\n",
      "fourth\n",
      "fourth\n",
      "highest\n",
      "highest\n",
      "highest\n",
      "international\n",
      "intern\n",
      "international\n",
      "cricket\n",
      "cricket\n",
      "cricket\n",
      "also\n",
      "also\n",
      "also\n",
      "holds\n",
      "hold\n",
      "hold\n",
      "record\n",
      "record\n",
      "record\n",
      "scoring\n",
      "score\n",
      "scoring\n",
      "centuries\n",
      "centuri\n",
      "century\n",
      "odi\n",
      "odi\n",
      "odi\n",
      "cricket\n",
      "cricket\n",
      "cricket\n",
      "stands\n",
      "stand\n",
      "stand\n",
      "second\n",
      "second\n",
      "second\n",
      "list\n",
      "list\n",
      "list\n",
      "international\n",
      "intern\n",
      "international\n",
      "centuries\n",
      "centuri\n",
      "century\n",
      "scored\n",
      "score\n",
      "scored\n",
      "kohli\n",
      "kohli\n",
      "kohli\n",
      "key\n",
      "key\n",
      "key\n",
      "member\n",
      "member\n",
      "member\n",
      "indian\n",
      "indian\n",
      "indian\n",
      "team\n",
      "team\n",
      "team\n",
      "cricket\n",
      "cricket\n",
      "cricket\n",
      "world\n",
      "world\n",
      "world\n",
      "cup\n",
      "cup\n",
      "cup\n",
      "icc\n",
      "icc\n",
      "icc\n",
      "champions\n",
      "champion\n",
      "champion\n",
      "trophy\n",
      "trophi\n",
      "trophy\n",
      "captained\n",
      "captain\n",
      "captained\n",
      "india\n",
      "india\n",
      "india\n",
      "win\n",
      "win\n",
      "win\n",
      "icc\n",
      "icc\n",
      "icc\n",
      "test\n",
      "test\n",
      "test\n",
      "mace\n",
      "mace\n",
      "mace\n",
      "three\n",
      "three\n",
      "three\n",
      "consecutive\n",
      "consecut\n",
      "consecutive\n",
      "times\n",
      "time\n",
      "time\n",
      "kohli\n",
      "kohli\n",
      "kohli\n",
      "ranked\n",
      "rank\n",
      "ranked\n",
      "number\n",
      "number\n",
      "number\n",
      "one\n",
      "one\n",
      "one\n",
      "icc\n",
      "icc\n",
      "icc\n",
      "rankings\n",
      "rank\n",
      "ranking\n",
      "odi\n",
      "odi\n",
      "odi\n",
      "batsmen\n",
      "batsmen\n",
      "batsman\n",
      "achieved\n",
      "achiev\n",
      "achieved\n",
      "summit\n",
      "summit\n",
      "summit\n",
      "rankings\n",
      "rank\n",
      "ranking\n",
      "ranked\n",
      "rank\n",
      "ranked\n",
      "top\n",
      "top\n",
      "top\n",
      "test\n",
      "test\n",
      "test\n",
      "batsman\n",
      "batsman\n",
      "batsman\n",
      "making\n",
      "make\n",
      "making\n",
      "indian\n",
      "indian\n",
      "indian\n",
      "cricketer\n",
      "cricket\n",
      "cricketer\n",
      "hold\n",
      "hold\n",
      "hold\n",
      "number\n",
      "number\n",
      "number\n",
      "one\n",
      "one\n",
      "one\n",
      "spot\n",
      "spot\n",
      "spot\n",
      "three\n",
      "three\n",
      "three\n",
      "formats\n",
      "format\n",
      "format\n",
      "game\n",
      "game\n",
      "game\n",
      "first\n",
      "first\n",
      "first\n",
      "player\n",
      "player\n",
      "player\n",
      "score\n",
      "score\n",
      "score\n",
      "runs\n",
      "run\n",
      "run\n",
      "decade\n",
      "decad\n",
      "decade\n",
      "international\n",
      "intern\n",
      "international\n",
      "cricket\n",
      "cricket\n",
      "cricket\n",
      "council\n",
      "council\n",
      "council\n",
      "named\n",
      "name\n",
      "named\n",
      "male\n",
      "male\n",
      "male\n",
      "cricketer\n",
      "cricket\n",
      "cricketer\n",
      "decade\n",
      "decad\n",
      "decade\n"
     ]
    }
   ],
   "source": [
    "## stemming and lemmatization:\n",
    "for i in corpus:\n",
    "    words = nltk.word_tokenize(i)\n",
    "    for word in words:\n",
    "        if word not in set(stopwords.words('english')):\n",
    "            #original word\n",
    "            print(word)\n",
    "            #stemming\n",
    "            print(stemmer.stem(word))\n",
    "            #lemmatization\n",
    "            print(lemmatizer.lemmatize(word))\n",
    "        "
   ]
  },
  {
   "cell_type": "code",
   "execution_count": 16,
   "metadata": {},
   "outputs": [
    {
     "name": "stdout",
     "output_type": "stream",
     "text": [
      "Requirement already satisfied: scikit-learn in c:\\users\\dell\\appdata\\local\\packages\\pythonsoftwarefoundation.python.3.10_qbz5n2kfra8p0\\localcache\\local-packages\\python310\\site-packages (1.5.0)\n",
      "Requirement already satisfied: numpy>=1.19.5 in c:\\users\\dell\\appdata\\local\\packages\\pythonsoftwarefoundation.python.3.10_qbz5n2kfra8p0\\localcache\\local-packages\\python310\\site-packages (from scikit-learn) (1.23.4)\n",
      "Requirement already satisfied: scipy>=1.6.0 in c:\\users\\dell\\appdata\\local\\packages\\pythonsoftwarefoundation.python.3.10_qbz5n2kfra8p0\\localcache\\local-packages\\python310\\site-packages (from scikit-learn) (1.12.0)\n",
      "Requirement already satisfied: joblib>=1.2.0 in c:\\users\\dell\\appdata\\local\\packages\\pythonsoftwarefoundation.python.3.10_qbz5n2kfra8p0\\localcache\\local-packages\\python310\\site-packages (from scikit-learn) (1.3.2)\n",
      "Requirement already satisfied: threadpoolctl>=3.1.0 in c:\\users\\dell\\appdata\\local\\packages\\pythonsoftwarefoundation.python.3.10_qbz5n2kfra8p0\\localcache\\local-packages\\python310\\site-packages (from scikit-learn) (3.5.0)\n",
      "Note: you may need to restart the kernel to use updated packages.\n"
     ]
    }
   ],
   "source": [
    "pip install scikit-learn"
   ]
  },
  {
   "cell_type": "code",
   "execution_count": 17,
   "metadata": {},
   "outputs": [],
   "source": [
    "#applying stopwords:\n",
    "import re\n",
    "corpus = []\n",
    "for i in range(len(sent)):\n",
    "    review = re.sub('[^a-zA-Z]',' ',sent[i])\n",
    "    review = review.lower()\n",
    "    review = review.split()\n",
    "    review = [lemmatizer.lemmatize(word) for word in review if word not in set(stopwords.words('english'))]\n",
    "    review = ' '.join(review)\n",
    "    corpus.append(review)"
   ]
  },
  {
   "cell_type": "code",
   "execution_count": 35,
   "metadata": {},
   "outputs": [],
   "source": [
    "#bag of words:\n",
    "from sklearn.feature_extraction.text import CountVectorizer\n",
    "cv = CountVectorizer(binary=True, ngram_range=(3,3))"
   ]
  },
  {
   "cell_type": "code",
   "execution_count": 36,
   "metadata": {},
   "outputs": [
    {
     "data": {
      "text/plain": [
       "{'virat kohli hindi': 96,\n",
       " 'kohli hindi pronunciation': 46,\n",
       " 'hindi pronunciation ko': 27,\n",
       " 'pronunciation ko li': 69,\n",
       " 'ko li born': 45,\n",
       " 'li born november': 50,\n",
       " 'born november indian': 5,\n",
       " 'november indian international': 59,\n",
       " 'indian international cricketer': 36,\n",
       " 'international cricketer former': 41,\n",
       " 'cricketer former captain': 15,\n",
       " 'former captain indian': 21,\n",
       " 'captain indian national': 6,\n",
       " 'indian national cricket': 37,\n",
       " 'national cricket team': 58,\n",
       " 'right handed batsman': 78,\n",
       " 'handed batsman occasional': 24,\n",
       " 'batsman occasional medium': 3,\n",
       " 'occasional medium fast': 62,\n",
       " 'medium fast bowler': 55,\n",
       " 'currently represents royal': 18,\n",
       " 'represents royal challenger': 77,\n",
       " 'royal challenger bengaluru': 79,\n",
       " 'challenger bengaluru ipl': 9,\n",
       " 'bengaluru ipl delhi': 4,\n",
       " 'ipl delhi domestic': 42,\n",
       " 'delhi domestic cricket': 19,\n",
       " 'kohli widely regarded': 49,\n",
       " 'widely regarded one': 97,\n",
       " 'regarded one greatest': 76,\n",
       " 'one greatest batsman': 65,\n",
       " 'greatest batsman time': 23,\n",
       " 'hold record highest': 29,\n",
       " 'record highest run': 74,\n",
       " 'highest run scorer': 26,\n",
       " 'run scorer ipl': 80,\n",
       " 'scorer ipl rank': 82,\n",
       " 'ipl rank third': 43,\n",
       " 'rank third odi': 70,\n",
       " 'third odi stand': 91,\n",
       " 'odi stand fourth': 64,\n",
       " 'stand fourth highest': 86,\n",
       " 'fourth highest international': 22,\n",
       " 'highest international cricket': 25,\n",
       " 'also hold record': 1,\n",
       " 'hold record scoring': 30,\n",
       " 'record scoring century': 75,\n",
       " 'scoring century odi': 83,\n",
       " 'century odi cricket': 8,\n",
       " 'odi cricket stand': 63,\n",
       " 'cricket stand second': 13,\n",
       " 'stand second list': 87,\n",
       " 'second list international': 84,\n",
       " 'list international century': 51,\n",
       " 'international century scored': 39,\n",
       " 'kohli key member': 47,\n",
       " 'key member indian': 44,\n",
       " 'member indian team': 56,\n",
       " 'indian team cricket': 38,\n",
       " 'team cricket world': 88,\n",
       " 'cricket world cup': 14,\n",
       " 'world cup icc': 99,\n",
       " 'cup icc champion': 17,\n",
       " 'icc champion trophy': 31,\n",
       " 'champion trophy captained': 10,\n",
       " 'trophy captained india': 95,\n",
       " 'captained india win': 7,\n",
       " 'india win icc': 34,\n",
       " 'win icc test': 98,\n",
       " 'icc test mace': 33,\n",
       " 'test mace three': 90,\n",
       " 'mace three consecutive': 52,\n",
       " 'three consecutive time': 92,\n",
       " 'kohli ranked number': 48,\n",
       " 'ranked number one': 71,\n",
       " 'number one icc': 60,\n",
       " 'one icc ranking': 66,\n",
       " 'icc ranking odi': 32,\n",
       " 'ranking odi batsman': 73,\n",
       " 'achieved summit ranking': 0,\n",
       " 'ranked top test': 72,\n",
       " 'top test batsman': 94,\n",
       " 'test batsman making': 89,\n",
       " 'batsman making indian': 2,\n",
       " 'making indian cricketer': 53,\n",
       " 'indian cricketer hold': 35,\n",
       " 'cricketer hold number': 16,\n",
       " 'hold number one': 28,\n",
       " 'number one spot': 61,\n",
       " 'one spot three': 67,\n",
       " 'spot three format': 85,\n",
       " 'three format game': 93,\n",
       " 'first player score': 20,\n",
       " 'player score run': 68,\n",
       " 'score run decade': 81,\n",
       " 'international cricket council': 40,\n",
       " 'cricket council named': 12,\n",
       " 'council named male': 11,\n",
       " 'named male cricketer': 57,\n",
       " 'male cricketer decade': 54}"
      ]
     },
     "execution_count": 36,
     "metadata": {},
     "output_type": "execute_result"
    }
   ],
   "source": [
    "x = cv.fit_transform(corpus)\n",
    "cv.vocabulary_"
   ]
  },
  {
   "cell_type": "code",
   "execution_count": 37,
   "metadata": {},
   "outputs": [
    {
     "data": {
      "text/plain": [
       "'virat kohli hindi pronunciation ko li born november indian international cricketer former captain indian national cricket team'"
      ]
     },
     "execution_count": 37,
     "metadata": {},
     "output_type": "execute_result"
    }
   ],
   "source": [
    "corpus[0]\n"
   ]
  },
  {
   "cell_type": "code",
   "execution_count": 38,
   "metadata": {},
   "outputs": [
    {
     "data": {
      "text/plain": [
       "array([[0, 0, 0, 0, 0, 1, 1, 0, 0, 0, 0, 0, 0, 0, 0, 1, 0, 0, 0, 0, 0, 1,\n",
       "        0, 0, 0, 0, 0, 1, 0, 0, 0, 0, 0, 0, 0, 0, 1, 1, 0, 0, 0, 1, 0, 0,\n",
       "        0, 1, 1, 0, 0, 0, 1, 0, 0, 0, 0, 0, 0, 0, 1, 1, 0, 0, 0, 0, 0, 0,\n",
       "        0, 0, 0, 1, 0, 0, 0, 0, 0, 0, 0, 0, 0, 0, 0, 0, 0, 0, 0, 0, 0, 0,\n",
       "        0, 0, 0, 0, 0, 0, 0, 0, 1, 0, 0, 0]], dtype=int64)"
      ]
     },
     "execution_count": 38,
     "metadata": {},
     "output_type": "execute_result"
    }
   ],
   "source": [
    "x[0].toarray()"
   ]
  },
  {
   "cell_type": "code",
   "execution_count": 23,
   "metadata": {},
   "outputs": [
    {
     "data": {
      "text/plain": [
       "['virat kohli hindi pronunciation ko li born november indian international cricketer former captain indian national cricket team',\n",
       " 'right handed batsman occasional medium fast bowler',\n",
       " 'currently represents royal challenger bengaluru ipl delhi domestic cricket',\n",
       " 'kohli widely regarded one greatest batsman time',\n",
       " 'hold record highest run scorer ipl rank third odi stand fourth highest international cricket',\n",
       " 'also hold record scoring century odi cricket stand second list international century scored',\n",
       " 'kohli key member indian team cricket world cup icc champion trophy captained india win icc test mace three consecutive time',\n",
       " 'kohli ranked number one icc ranking odi batsman',\n",
       " 'achieved summit ranking',\n",
       " 'ranked top test batsman making indian cricketer hold number one spot three format game',\n",
       " 'first player score run decade',\n",
       " 'international cricket council named male cricketer decade',\n",
       " '']"
      ]
     },
     "execution_count": 23,
     "metadata": {},
     "output_type": "execute_result"
    }
   ],
   "source": [
    "corpus"
   ]
  },
  {
   "cell_type": "code",
   "execution_count": 68,
   "metadata": {},
   "outputs": [],
   "source": [
    "#TF-IDF:\n",
    "from sklearn.feature_extraction.text import TfidfVectorizer\n",
    "cv = TfidfVectorizer(ngram_range=(1,1))\n",
    "x = cv.fit_transform(corpus)"
   ]
  },
  {
   "cell_type": "code",
   "execution_count": 69,
   "metadata": {},
   "outputs": [
    {
     "data": {
      "text/plain": [
       "{'virat': 79,\n",
       " 'kohli': 38,\n",
       " 'hindi': 29,\n",
       " 'pronunciation': 54,\n",
       " 'ko': 37,\n",
       " 'li': 39,\n",
       " 'born': 4,\n",
       " 'november': 48,\n",
       " 'indian': 33,\n",
       " 'international': 34,\n",
       " 'cricketer': 14,\n",
       " 'former': 23,\n",
       " 'captain': 6,\n",
       " 'national': 47,\n",
       " 'cricket': 13,\n",
       " 'team': 72,\n",
       " 'right': 61,\n",
       " 'handed': 27,\n",
       " 'batsman': 2,\n",
       " 'occasional': 50,\n",
       " 'medium': 44,\n",
       " 'fast': 20,\n",
       " 'bowler': 5,\n",
       " 'currently': 16,\n",
       " 'represents': 60,\n",
       " 'royal': 62,\n",
       " 'challenger': 9,\n",
       " 'bengaluru': 3,\n",
       " 'ipl': 35,\n",
       " 'delhi': 18,\n",
       " 'domestic': 19,\n",
       " 'widely': 80,\n",
       " 'regarded': 59,\n",
       " 'one': 52,\n",
       " 'greatest': 26,\n",
       " 'time': 76,\n",
       " 'hold': 30,\n",
       " 'record': 58,\n",
       " 'highest': 28,\n",
       " 'run': 63,\n",
       " 'scorer': 66,\n",
       " 'rank': 55,\n",
       " 'third': 74,\n",
       " 'odi': 51,\n",
       " 'stand': 70,\n",
       " 'fourth': 24,\n",
       " 'also': 1,\n",
       " 'scoring': 67,\n",
       " 'century': 8,\n",
       " 'second': 68,\n",
       " 'list': 40,\n",
       " 'scored': 65,\n",
       " 'key': 36,\n",
       " 'member': 45,\n",
       " 'world': 82,\n",
       " 'cup': 15,\n",
       " 'icc': 31,\n",
       " 'champion': 10,\n",
       " 'trophy': 78,\n",
       " 'captained': 7,\n",
       " 'india': 32,\n",
       " 'win': 81,\n",
       " 'test': 73,\n",
       " 'mace': 41,\n",
       " 'three': 75,\n",
       " 'consecutive': 11,\n",
       " 'ranked': 56,\n",
       " 'number': 49,\n",
       " 'ranking': 57,\n",
       " 'achieved': 0,\n",
       " 'summit': 71,\n",
       " 'top': 77,\n",
       " 'making': 42,\n",
       " 'spot': 69,\n",
       " 'format': 22,\n",
       " 'game': 25,\n",
       " 'first': 21,\n",
       " 'player': 53,\n",
       " 'score': 64,\n",
       " 'decade': 17,\n",
       " 'council': 12,\n",
       " 'named': 46,\n",
       " 'male': 43}"
      ]
     },
     "execution_count": 69,
     "metadata": {},
     "output_type": "execute_result"
    }
   ],
   "source": [
    "cv.vocabulary_"
   ]
  },
  {
   "cell_type": "code",
   "execution_count": 70,
   "metadata": {},
   "outputs": [
    {
     "data": {
      "text/plain": [
       "'virat kohli hindi pronunciation ko li born november indian international cricketer former captain indian national cricket team'"
      ]
     },
     "execution_count": 70,
     "metadata": {},
     "output_type": "execute_result"
    }
   ],
   "source": [
    "corpus[0]"
   ]
  },
  {
   "cell_type": "code",
   "execution_count": 71,
   "metadata": {},
   "outputs": [
    {
     "data": {
      "text/plain": [
       "array([[0.        , 0.        , 0.        , 0.        , 0.25865421,\n",
       "        0.        , 0.25865421, 0.        , 0.        , 0.        ,\n",
       "        0.        , 0.        , 0.        , 0.14866022, 0.19779512,\n",
       "        0.        , 0.        , 0.        , 0.        , 0.        ,\n",
       "        0.        , 0.        , 0.        , 0.25865421, 0.        ,\n",
       "        0.        , 0.        , 0.        , 0.        , 0.25865421,\n",
       "        0.        , 0.        , 0.        , 0.39559023, 0.17820286,\n",
       "        0.        , 0.        , 0.25865421, 0.17820286, 0.25865421,\n",
       "        0.        , 0.        , 0.        , 0.        , 0.        ,\n",
       "        0.        , 0.        , 0.25865421, 0.25865421, 0.        ,\n",
       "        0.        , 0.        , 0.        , 0.        , 0.25865421,\n",
       "        0.        , 0.        , 0.        , 0.        , 0.        ,\n",
       "        0.        , 0.        , 0.        , 0.        , 0.        ,\n",
       "        0.        , 0.        , 0.        , 0.        , 0.        ,\n",
       "        0.        , 0.        , 0.22305392, 0.        , 0.        ,\n",
       "        0.        , 0.        , 0.        , 0.        , 0.25865421,\n",
       "        0.        , 0.        , 0.        ]])"
      ]
     },
     "execution_count": 71,
     "metadata": {},
     "output_type": "execute_result"
    }
   ],
   "source": [
    "x[0].toarray()"
   ]
  },
  {
   "cell_type": "code",
   "execution_count": 78,
   "metadata": {},
   "outputs": [],
   "source": [
    "#TF-IDF with top n features:\n",
    "from sklearn.feature_extraction.text import TfidfVectorizer\n",
    "cv = TfidfVectorizer(ngram_range=(1,1),max_features=10)\n",
    "x = cv.fit_transform(corpus)"
   ]
  },
  {
   "cell_type": "code",
   "execution_count": 79,
   "metadata": {},
   "outputs": [
    {
     "data": {
      "text/plain": [
       "{'kohli': 7,\n",
       " 'indian': 5,\n",
       " 'international': 6,\n",
       " 'cricketer': 2,\n",
       " 'cricket': 1,\n",
       " 'batsman': 0,\n",
       " 'one': 9,\n",
       " 'hold': 3,\n",
       " 'odi': 8,\n",
       " 'icc': 4}"
      ]
     },
     "execution_count": 79,
     "metadata": {},
     "output_type": "execute_result"
    }
   ],
   "source": [
    "corpus[0]\n",
    "cv.vocabulary_"
   ]
  },
  {
   "cell_type": "code",
   "execution_count": 74,
   "metadata": {},
   "outputs": [
    {
     "data": {
      "text/plain": [
       "array([[0.        , 0.2803279 , 0.37298135, 0.        , 0.        ,\n",
       "        0.7459627 , 0.33603633, 0.33603633, 0.        , 0.        ]])"
      ]
     },
     "execution_count": 74,
     "metadata": {},
     "output_type": "execute_result"
    }
   ],
   "source": [
    "x[0].toarray()"
   ]
  },
  {
   "cell_type": "code",
   "execution_count": null,
   "metadata": {},
   "outputs": [],
   "source": []
  }
 ],
 "metadata": {
  "kernelspec": {
   "display_name": "Python 3",
   "language": "python",
   "name": "python3"
  },
  "language_info": {
   "codemirror_mode": {
    "name": "ipython",
    "version": 3
   },
   "file_extension": ".py",
   "mimetype": "text/x-python",
   "name": "python",
   "nbconvert_exporter": "python",
   "pygments_lexer": "ipython3",
   "version": "3.10.11"
  }
 },
 "nbformat": 4,
 "nbformat_minor": 2
}
